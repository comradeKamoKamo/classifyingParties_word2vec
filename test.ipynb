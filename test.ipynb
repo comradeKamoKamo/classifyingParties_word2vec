{
 "cells": [
  {
   "cell_type": "code",
   "execution_count": null,
   "metadata": {},
   "outputs": [],
   "source": [
    "import Janome"
   ]
  },
  {
   "cell_type": "code",
   "execution_count": 7,
   "metadata": {},
   "outputs": [
    {
     "name": "stdout",
     "output_type": "stream",
     "text": [
      " ドライブ D のボリューム ラベルは ボリューム です\n",
      " ボリューム シリアル番号は 14D3-FA70 です\n",
      "\n",
      " D:\\UserData\\Documents\\Source\\Repos\\classifyingParties_word2vec のディレクトリ\n",
      "\n",
      "2018/12/29  16:25    <DIR>          .\n",
      "2018/12/29  16:25    <DIR>          ..\n",
      "2018/12/29  16:23    <DIR>          .ipynb_checkpoints\n",
      "2018/12/29  16:25             1,483 test.ipynb\n",
      "               1 個のファイル               1,483 バイト\n",
      "               3 個のディレクトリ   9,138,286,592 バイトの空き領域\n"
     ]
    }
   ],
   "source": [
    "!dir"
   ]
  },
  {
   "cell_type": "code",
   "execution_count": 5,
   "metadata": {},
   "outputs": [],
   "source": [
    "!activate tensorflow"
   ]
  }
 ],
 "metadata": {
  "kernelspec": {
   "display_name": "tensorflow",
   "language": "python",
   "name": "tensorflow"
  },
  "language_info": {
   "codemirror_mode": {
    "name": "ipython",
    "version": 3
   },
   "file_extension": ".py",
   "mimetype": "text/x-python",
   "name": "python",
   "nbconvert_exporter": "python",
   "pygments_lexer": "ipython3",
   "version": "3.6.5"
  }
 },
 "nbformat": 4,
 "nbformat_minor": 2
}
