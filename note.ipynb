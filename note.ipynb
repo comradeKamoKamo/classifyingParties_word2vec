{
 "cells": [
  {
   "cell_type": "code",
   "execution_count": 33,
   "metadata": {},
   "outputs": [],
   "source": [
    "from gensim.models import word2vec\n",
    "model = word2vec.Word2Vec.load(\"make_corpus/jawiki.model\")"
   ]
  },
  {
   "cell_type": "code",
   "execution_count": 35,
   "metadata": {},
   "outputs": [
    {
     "name": "stdout",
     "output_type": "stream",
     "text": [
      "姫君 \t 0.6757448315620422\n",
      "男 \t 0.6743749380111694\n",
      "寵姫 \t 0.6644174456596375\n",
      "侍女 \t 0.6563159823417664\n",
      "王女 \t 0.6550811529159546\n",
      "王妃 \t 0.6519767045974731\n",
      "帝 \t 0.6469862461090088\n",
      "王子 \t 0.6462088823318481\n",
      "女帝 \t 0.6449722051620483\n",
      "妾 \t 0.6449054479598999\n"
     ]
    }
   ],
   "source": [
    "import numpy as np\n",
    "p = [\"皇帝\",\"女\"]\n",
    "n = []\n",
    "\n",
    "results = model.wv.most_similar(p,n, topn=10)\n",
    "\n",
    "for result in results:\n",
    "    print(result[0], '\\t', result[1])"
   ]
  },
  {
   "cell_type": "code",
   "execution_count": 36,
   "metadata": {},
   "outputs": [
    {
     "name": "stdout",
     "output_type": "stream",
     "text": [
      "姫君 \t 0.6731151342391968\n",
      "男 \t 0.6662282943725586\n",
      "寵姫 \t 0.6661146879196167\n",
      "侍女 \t 0.654399037361145\n",
      "王女 \t 0.6543127298355103\n",
      "王妃 \t 0.6535855531692505\n",
      "帝 \t 0.6524242162704468\n",
      "女帝 \t 0.6497179865837097\n",
      "君主 \t 0.6494975090026855\n",
      "王子 \t 0.6455827355384827\n"
     ]
    }
   ],
   "source": [
    "sp, sn = np.zeros((200,),dtype=float), np.zeros((200,),dtype=float)\n",
    "for w in p:\n",
    "    sp += model.wv[w]\n",
    "for w in n:\n",
    "    sn += model.wv[w]\n",
    "\n",
    "cw = len(p)+len(n)\n",
    "    \n",
    "results = model.wv.similar_by_vector((sp-sn)/cw, topn=10+cw)\n",
    "\n",
    "for result in results:\n",
    "    if not result[0] in p and not result[0] in n:\n",
    "        print(result[0], '\\t', result[1])"
   ]
  },
  {
   "cell_type": "code",
   "execution_count": 38,
   "metadata": {},
   "outputs": [
    {
     "name": "stdout",
     "output_type": "stream",
     "text": [
      "Updating f604569..c081a22\n",
      "Fast-forward\n",
      " .gitignore               |  2 +-\n",
      " get_features.py          | 37 +++++++++++++++++++++++++++++++++++++\n",
      " get_tweets/get_tweets.py |  5 ++++-\n",
      " 3 files changed, 42 insertions(+), 2 deletions(-)\n",
      " create mode 100644 get_features.py\n"
     ]
    },
    {
     "name": "stderr",
     "output_type": "stream",
     "text": [
      "From github.com:comradeKamoKamo/classifyingParties_word2vec\n",
      "   f604569..c081a22  develop    -> origin/develop\n"
     ]
    },
    {
     "name": "stdout",
     "output_type": "stream",
     "text": [
      "On branch develop\n",
      "Your branch is up to date with 'origin/develop'.\n",
      "\n",
      "Changes not staged for commit:\n",
      "\tmodified:   note.ipynb\n",
      "\n",
      "Untracked files:\n",
      "\tdata/\n",
      "\n",
      "no changes added to commit\n"
     ]
    },
    {
     "name": "stderr",
     "output_type": "stream",
     "text": [
      "Everything up-to-date\n"
     ]
    }
   ],
   "source": [
    "!git pull\n",
    "!git commit -m 特徴量データ\n",
    "!git push"
   ]
  }
 ],
 "metadata": {
  "kernelspec": {
   "display_name": "Python 3",
   "language": "python",
   "name": "python3"
  },
  "language_info": {
   "codemirror_mode": {
    "name": "ipython",
    "version": 3
   },
   "file_extension": ".py",
   "mimetype": "text/x-python",
   "name": "python",
   "nbconvert_exporter": "python",
   "pygments_lexer": "ipython3",
   "version": "3.7.2"
  }
 },
 "nbformat": 4,
 "nbformat_minor": 2
}
