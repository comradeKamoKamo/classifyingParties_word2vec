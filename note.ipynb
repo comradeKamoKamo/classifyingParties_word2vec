{
 "cells": [
  {
   "cell_type": "code",
   "execution_count": 3,
   "metadata": {},
   "outputs": [],
   "source": [
    "from gensim.models import word2vec\n",
    "\n",
    "model   = word2vec.Word2Vec.load(\"debug.bin\")"
   ]
  },
  {
   "cell_type": "code",
   "execution_count": 10,
   "metadata": {},
   "outputs": [
    {
     "name": "stdout",
     "output_type": "stream",
     "text": [
      "形態 \t 0.988025963306427\n",
      "地球 \t 0.9869565367698669\n",
      "知識 \t 0.986616849899292\n",
      "精神 \t 0.9864504337310791\n",
      "論理 \t 0.9863860607147217\n",
      "観点 \t 0.9861728549003601\n",
      "学者 \t 0.9858126044273376\n",
      "遺伝 \t 0.9856642484664917\n",
      "諸 \t 0.9852400422096252\n",
      "知能 \t 0.9850761294364929\n"
     ]
    },
    {
     "name": "stderr",
     "output_type": "stream",
     "text": [
      "d:\\programs\\python\\env35\\nlp\\lib\\site-packages\\ipykernel_launcher.py:1: DeprecationWarning: Call to deprecated `most_similar` (Method will be removed in 4.0.0, use self.wv.most_similar() instead).\n",
      "  \"\"\"Entry point for launching an IPython kernel.\n"
     ]
    }
   ],
   "source": [
    "results = model.most_similar(positive=\"神\", topn=10)\n",
    "\n",
    "for result in results:\n",
    "    print(result[0], '\\t', result[1])"
   ]
  },
  {
   "cell_type": "code",
   "execution_count": 2,
   "metadata": {},
   "outputs": [
    {
     "name": "stderr",
     "output_type": "stream",
     "text": [
      "warning: LF will be replaced by CRLF in make_corpus/category.sql.\n",
      "The file will have its original line endings in your working directory.\n"
     ]
    },
    {
     "name": "stdout",
     "output_type": "stream",
     "text": [
      "[develop b6dc319] 繧ｫ繝�繧ｴ繝ｪ謚ｽ蜃ｺSQL\n",
      " 1 file changed, 46 insertions(+)\n",
      " create mode 100644 make_corpus/category.sql\n"
     ]
    },
    {
     "name": "stderr",
     "output_type": "stream",
     "text": [
      "To github.com:comradeKamoKamo/classifyingParties_word2vec.git\n",
      "   601e77f..b6dc319  develop -> develop\n"
     ]
    }
   ],
   "source": [
    "!git add make_corpus/category.sql\n",
    "!git commit -m カテゴリ抽出SQL\n",
    "!git push"
   ]
  }
 ],
 "metadata": {
  "kernelspec": {
   "display_name": "Python 3",
   "language": "python",
   "name": "python3"
  },
  "language_info": {
   "codemirror_mode": {
    "name": "ipython",
    "version": 3
   },
   "file_extension": ".py",
   "mimetype": "text/x-python",
   "name": "python",
   "nbconvert_exporter": "python",
   "pygments_lexer": "ipython3",
   "version": "3.5.4"
  }
 },
 "nbformat": 4,
 "nbformat_minor": 2
}
