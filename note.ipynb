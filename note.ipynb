{
 "cells": [
  {
   "cell_type": "code",
   "execution_count": 1,
   "metadata": {},
   "outputs": [],
   "source": [
    "from gensim.models import word2vec\n",
    "model = word2vec.Word2Vec.load(\"make_corpus/politics.model\")"
   ]
  },
  {
   "cell_type": "code",
   "execution_count": 9,
   "metadata": {},
   "outputs": [
    {
     "name": "stdout",
     "output_type": "stream",
     "text": [
      "Collecting numpy==1.16.0\n",
      "  Downloading https://files.pythonhosted.org/packages/b1/a5/8db6c28b20f726bef80e8db46fe60dbe8ed37191c3dd70287f694bb20c05/numpy-1.16.0-cp35-cp35m-win_amd64.whl (11.9MB)\n",
      "Installing collected packages: numpy\n",
      "  Found existing installation: numpy 1.15.4\n",
      "    Uninstalling numpy-1.15.4:\n"
     ]
    },
    {
     "name": "stderr",
     "output_type": "stream",
     "text": [
      "Could not install packages due to an EnvironmentError: [WinError 5] アクセスが拒否されました。: 'd:\\\\programs\\\\python\\\\env35\\\\nlp\\\\lib\\\\site-packages\\\\numpy\\\\.libs\\\\libopenblas.csrrd7hkrkc3t3yxa7vy7tazglswdkw6.gfortran-win_amd64.dll'\n",
      "Consider using the `--user` option or check the permissions.\n",
      "\n"
     ]
    }
   ],
   "source": [
    "!pip f"
   ]
  },
  {
   "cell_type": "code",
   "execution_count": 8,
   "metadata": {},
   "outputs": [
    {
     "name": "stdout",
     "output_type": "stream",
     "text": [
      "編入合併 \t 0.9920559525489807\n",
      "旭川 \t 0.991037130355835\n",
      "足守藩 \t 0.9910368919372559\n",
      "浜松市 \t 0.9905810952186584\n",
      "因幡国 \t 0.9904344081878662\n",
      "葛飾郡 \t 0.9897811412811279\n",
      "奥能登 \t 0.9896794557571411\n",
      "亘理郡 \t 0.9896374344825745\n",
      "登 \t 0.9890602827072144\n",
      "下野 \t 0.9889732599258423\n"
     ]
    },
    {
     "name": "stderr",
     "output_type": "stream",
     "text": [
      "d:\\programs\\python\\env37\\mecab\\lib\\site-packages\\ipykernel_launcher.py:1: DeprecationWarning: Call to deprecated `most_similar` (Method will be removed in 4.0.0, use self.wv.most_similar() instead).\n",
      "  \"\"\"Entry point for launching an IPython kernel.\n"
     ]
    }
   ],
   "source": [
    "results = model.most_similar(positive=\"台東区\", topn=10)\n",
    "\n",
    "for result in results:\n",
    "    print(result[0], '\\t', result[1])"
   ]
  },
  {
   "cell_type": "code",
   "execution_count": 2,
   "metadata": {},
   "outputs": [
    {
     "name": "stderr",
     "output_type": "stream",
     "text": [
      "warning: LF will be replaced by CRLF in make_corpus/category.sql.\n",
      "The file will have its original line endings in your working directory.\n"
     ]
    },
    {
     "name": "stdout",
     "output_type": "stream",
     "text": [
      "[develop b6dc319] 繧ｫ繝�繧ｴ繝ｪ謚ｽ蜃ｺSQL\n",
      " 1 file changed, 46 insertions(+)\n",
      " create mode 100644 make_corpus/category.sql\n"
     ]
    },
    {
     "name": "stderr",
     "output_type": "stream",
     "text": [
      "To github.com:comradeKamoKamo/classifyingParties_word2vec.git\n",
      "   601e77f..b6dc319  develop -> develop\n"
     ]
    }
   ],
   "source": [
    "!git add make_corpus/category.sql\n",
    "!git commit -m カテゴリ抽出SQL\n",
    "!git push"
   ]
  }
 ],
 "metadata": {
  "kernelspec": {
   "display_name": "Python 3",
   "language": "python",
   "name": "python3"
  },
  "language_info": {
   "codemirror_mode": {
    "name": "ipython",
    "version": 3
   },
   "file_extension": ".py",
   "mimetype": "text/x-python",
   "name": "python",
   "nbconvert_exporter": "python",
   "pygments_lexer": "ipython3",
   "version": "3.7.2"
  }
 },
 "nbformat": 4,
 "nbformat_minor": 2
}
