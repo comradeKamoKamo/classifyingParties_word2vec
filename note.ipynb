{
 "cells": [
  {
   "cell_type": "code",
   "execution_count": 1,
   "metadata": {},
   "outputs": [],
   "source": [
    "from gensim.models import word2vec\n",
    "model = word2vec.Word2Vec.load(\"make_corpus/jawiki.model\")"
   ]
  },
  {
   "cell_type": "code",
   "execution_count": 36,
   "metadata": {},
   "outputs": [
    {
     "name": "stdout",
     "output_type": "stream",
     "text": [
      "方言 \t 0.851722002029419\n",
      "フランス語 \t 0.7635383605957031\n",
      "区分 \t 0.7606894969940186\n",
      "地域 \t 0.7568017244338989\n",
      "都市 \t 0.7471264600753784\n",
      "範囲 \t 0.7366137504577637\n",
      "3つ \t 0.7362918853759766\n",
      "集団 \t 0.7358417510986328\n",
      "トルコ \t 0.7333356738090515\n",
      "話者 \t 0.7329740524291992\n"
     ]
    }
   ],
   "source": [
    "p = [\"言語\",\"民族\"]\n",
    "n = [\"コンピュータ\"]\n",
    "\n",
    "results = model.wv.most_similar(p,n, topn=10)\n",
    "\n",
    "for result in results:\n",
    "    print(result[0], '\\t', result[1])"
   ]
  }
 ],
 "metadata": {
  "kernelspec": {
   "display_name": "Python 3",
   "language": "python",
   "name": "python3"
  },
  "language_info": {
   "codemirror_mode": {
    "name": "ipython",
    "version": 3
   },
   "file_extension": ".py",
   "mimetype": "text/x-python",
   "name": "python",
   "nbconvert_exporter": "python",
   "pygments_lexer": "ipython3",
   "version": "3.7.2"
  }
 },
 "nbformat": 4,
 "nbformat_minor": 2
}
