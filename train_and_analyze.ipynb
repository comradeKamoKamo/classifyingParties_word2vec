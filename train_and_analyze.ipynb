{
 "cells": [
  {
   "cell_type": "markdown",
   "metadata": {},
   "source": [
    "### Import Functions"
   ]
  },
  {
   "cell_type": "code",
   "execution_count": 1,
   "metadata": {},
   "outputs": [
    {
     "name": "stderr",
     "output_type": "stream",
     "text": [
      "Using TensorFlow backend.\n"
     ]
    }
   ],
   "source": [
    "import train\n",
    "t = train.Train()"
   ]
  },
  {
   "cell_type": "markdown",
   "metadata": {},
   "source": [
    "### Train model"
   ]
  },
  {
   "cell_type": "code",
   "execution_count": null,
   "metadata": {},
   "outputs": [],
   "source": [
    "# DO NOT RUN THIS CELL\n",
    "i = 5\n",
    "for i in range(1,i+1):\n",
    "    t.main(i)"
   ]
  },
  {
   "cell_type": "markdown",
   "metadata": {},
   "source": [
    "### Analyze Results (Average Comfusion Matrix)"
   ]
  },
  {
   "cell_type": "code",
   "execution_count": 4,
   "metadata": {},
   "outputs": [
    {
     "data": {
      "image/png": "[encoded data removed]",
      "text/plain": [
       "<Figure size 432x288 with 2 Axes>"
      ]
     },
     "metadata": {
      "needs_background": "light"
     },
     "output_type": "display_data"
    }
   ],
   "source": [
    "import csv\n",
    "\n",
    "import numpy as np\n",
    "import matplotlib.pyplot as plt\n",
    "\n",
    "cm = []\n",
    "for i in range(1, i+1):\n",
    "    cm.append(np.load(\"data/cm{0}.npy\".format(i)))\n",
    "cm = np.asarray(cm)\n",
    "cm_a = np.mean(cm,axis=0)\n",
    "\n",
    "fig = plt.figure()\n",
    "politicians = t.get_politicians()\n",
    "ax = plt.subplot()\n",
    "cax = ax.matshow(cm_a, interpolation=\"nearest\", cmap=\"autumn_r\")\n",
    "fig.colorbar(cax)\n",
    "ax.set_xticklabels([\"\"]+politicians,fontsize=6)\n",
    "ax.set_yticklabels([\"\"]+politicians,fontsize=6)\n",
    "plt.title(\"Normalized Confusion Matrix\")\n",
    "plt.xlabel(\"Predicted class\")\n",
    "plt.ylabel(\"True class\")\n",
    "plt.show()\n",
    "\n",
    "with open(\"data/cm.csv\",\"w\") as f:\n",
    "    writer = csv.writer(f,delimiter=\",\")\n",
    "    writer.writerows(cm_a)"
   ]
  }
 ],
 "metadata": {
  "kernelspec": {
   "display_name": "Python 3",
   "language": "python",
   "name": "python3"
  },
  "language_info": {
   "codemirror_mode": {
    "name": "ipython",
    "version": 3
   },
   "file_extension": ".py",
   "mimetype": "text/x-python",
   "name": "python",
   "nbconvert_exporter": "python",
   "pygments_lexer": "ipython3",
   "version": "3.5.4"
  }
 },
 "nbformat": 4,
 "nbformat_minor": 2
}
