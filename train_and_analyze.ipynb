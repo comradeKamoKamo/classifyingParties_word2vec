{
 "cells": [
  {
   "cell_type": "markdown",
   "metadata": {},
   "source": [
    "### Import Functions\n",
    "This is tfidf version.  \n",
    "*DO THIS NOTEBOOK ON MECAB ENV!!*"
   ]
  },
  {
   "cell_type": "code",
   "execution_count": 5,
   "metadata": {
    "scrolled": true
   },
   "outputs": [],
   "source": [
    "import get_features\n",
    "from gensim.models import Word2Vec\n",
    "gf = get_features.GetFeatures()\n",
    "model = Word2Vec.load(r\"make_corpus/jawiki.model\")"
   ]
  },
  {
   "cell_type": "markdown",
   "metadata": {},
   "source": [
    "### Train model"
   ]
  },
  {
   "cell_type": "code",
   "execution_count": 6,
   "metadata": {},
   "outputs": [
    {
     "data": {
      "text/plain": [
       "0"
      ]
     },
     "execution_count": 6,
     "metadata": {},
     "output_type": "execute_result"
    }
   ],
   "source": [
    "# Before doing under cell, DO THIS CELL\n",
    "from pathlib import Path\n",
    "import subprocess\n",
    "Path(\"data/accuracy.txt\").write_text(\"\")"
   ]
  },
  {
   "cell_type": "code",
   "execution_count": 7,
   "metadata": {},
   "outputs": [],
   "source": [
    "# BE CAREFULL\n",
    "!del data\\*.npy\n",
    "!del data\\*.txt"
   ]
  },
  {
   "cell_type": "code",
   "execution_count": 8,
   "metadata": {},
   "outputs": [
    {
     "name": "stdout",
     "output_type": "stream",
     "text": [
      "split OK! 1\n",
      "tf-idf OK! 1\n",
      "features OK! 1\n",
      "train OK! 1\n",
      "split OK! 2\n",
      "tf-idf OK! 2\n",
      "features OK! 2\n",
      "train OK! 2\n",
      "split OK! 3\n",
      "tf-idf OK! 3\n",
      "features OK! 3\n",
      "train OK! 3\n",
      "split OK! 4\n",
      "tf-idf OK! 4\n",
      "features OK! 4\n",
      "train OK! 4\n",
      "split OK! 5\n",
      "tf-idf OK! 5\n",
      "features OK! 5\n",
      "train OK! 5\n",
      "split OK! 6\n",
      "tf-idf OK! 6\n",
      "features OK! 6\n",
      "train OK! 6\n",
      "split OK! 7\n",
      "tf-idf OK! 7\n",
      "features OK! 7\n",
      "train OK! 7\n",
      "split OK! 8\n",
      "tf-idf OK! 8\n",
      "features OK! 8\n",
      "train OK! 8\n",
      "split OK! 9\n",
      "tf-idf OK! 9\n",
      "features OK! 9\n",
      "train OK! 9\n",
      "split OK! 10\n",
      "tf-idf OK! 10\n",
      "features OK! 10\n",
      "train OK! 10\n"
     ]
    }
   ],
   "source": [
    "# DO CAREFULLY\n",
    "i = 10\n",
    "for i in range(1,i+1):\n",
    "    !python split_train_and_test.py\n",
    "    print(\"split OK!\",i)\n",
    "    !python get_tf-idf.py\n",
    "    print(\"tf-idf OK!\",i)\n",
    "    gf.main(model)\n",
    "    print(\"features OK!\",i)\n",
    "    subprocess.call(r\"D:\\Programs\\Python\\env35\\nlp\\Scripts\\python.exe train.py \" + str(i))\n",
    "    print(\"train OK!\",i)"
   ]
  },
  {
   "cell_type": "markdown",
   "metadata": {},
   "source": [
    "### Analyze Results (Average Comfusion Matrix)\n",
    "DO THIS CELL ON NLP ENV!"
   ]
  },
  {
   "cell_type": "code",
   "execution_count": 7,
   "metadata": {},
   "outputs": [
    {
     "name": "stdout",
     "output_type": "stream",
     "text": [
      "Average Accuracy: 0.8147390158349745\n"
     ]
    },
    {
     "data": {
      "image/png": "[encoded data removed]",
      "text/plain": [
       "<Figure size 432x288 with 2 Axes>"
      ]
     },
     "metadata": {
      "needs_background": "light"
     },
     "output_type": "display_data"
    }
   ],
   "source": [
    "import csv\n",
    "\n",
    "import numpy as np\n",
    "import matplotlib.pyplot as plt\n",
    "\n",
    "import train\n",
    "t = train.Train()\n",
    "politicians = t.get_politicians()\n",
    "\n",
    "i = 10\n",
    "\n",
    "accuracies = []\n",
    "with open(\"data/accuracy.txt\",\"r\") as f:\n",
    "    for l in f.readlines():\n",
    "        accuracies.append(float(l))\n",
    "print(\"Average Accuracy:\",np.mean(accuracies))\n",
    "        \n",
    "\n",
    "cm = []\n",
    "for i in range(1, i+1):\n",
    "    cm.append(np.load(\"data/cm{0}.npy\".format(i)))\n",
    "cm = np.asarray(cm)\n",
    "cm_a = np.mean(cm,axis=0)\n",
    "\n",
    "fig = plt.figure()\n",
    "ax = plt.subplot()\n",
    "cax = ax.matshow(cm_a, interpolation=\"nearest\", cmap=\"autumn_r\")\n",
    "fig.colorbar(cax)\n",
    "ax.set_xticklabels([\"\"]+politicians,fontsize=6)\n",
    "ax.set_yticklabels([\"\"]+politicians,fontsize=6)\n",
    "plt.title(\"Normalized Confusion Matrix\")\n",
    "plt.xlabel(\"Predicted class\")\n",
    "plt.ylabel(\"True class\")\n",
    "plt.show()\n",
    "\n",
    "with open(\"data/cm.csv\",\"w\") as f:\n",
    "    writer = csv.writer(f,delimiter=\",\")\n",
    "    writer.writerows(cm_a)"
   ]
  }
 ],
 "metadata": {
  "kernelspec": {
   "display_name": "Python 3",
   "language": "python",
   "name": "python3"
  },
  "language_info": {
   "codemirror_mode": {
    "name": "ipython",
    "version": 3
   },
   "file_extension": ".py",
   "mimetype": "text/x-python",
   "name": "python",
   "nbconvert_exporter": "python",
   "pygments_lexer": "ipython3",
   "version": "3.5.4"
  }
 },
 "nbformat": 4,
 "nbformat_minor": 2
}
