{
 "cells": [
  {
   "cell_type": "markdown",
   "metadata": {},
   "source": [
    "### Import Functions\n",
    "This is tfidf version.  \n",
    "*DO THIS NOTEBOOK ON MECAB ENV!!*"
   ]
  },
  {
   "cell_type": "code",
   "execution_count": 66,
   "metadata": {
    "scrolled": true
   },
   "outputs": [],
   "source": [
    "import get_features\n",
    "from gensim.models import Word2Vec\n",
    "gf = get_features.GetFeatures()\n",
    "model = Word2Vec.load(r\"make_corpus/jawiki.model\")"
   ]
  },
  {
   "cell_type": "markdown",
   "metadata": {},
   "source": [
    "### Train model"
   ]
  },
  {
   "cell_type": "code",
   "execution_count": 67,
   "metadata": {},
   "outputs": [
    {
     "data": {
      "text/plain": [
       "0"
      ]
     },
     "execution_count": 67,
     "metadata": {},
     "output_type": "execute_result"
    }
   ],
   "source": [
    "# Before doing under cell, DO THIS CELL\n",
    "from pathlib import Path\n",
    "import subprocess\n",
    "Path(\"data/accuracy.txt\").write_text(\"\")"
   ]
  },
  {
   "cell_type": "code",
   "execution_count": 68,
   "metadata": {},
   "outputs": [],
   "source": [
    "# BE CAREFULL\n",
    "!del data\\*.npy\n",
    "!del data\\*.txt"
   ]
  },
  {
   "cell_type": "code",
   "execution_count": 69,
   "metadata": {},
   "outputs": [],
   "source": [
    "OLD_PATH = r\"../ClassifyingOfPartyByTweets/\"\n",
    "NLP_PATH = r\"D:\\Programs\\Python\\env35\\nlp\\Scripts\\python.exe\"\n",
    "\n",
    "def NLP(args):\n",
    "    subprocess.call(NLP_PATH + \" \" + args)\n",
    "    \n",
    "def OLD(file):\n",
    "    NLP(OLD_PATH+file)"
   ]
  },
  {
   "cell_type": "code",
   "execution_count": 48,
   "metadata": {},
   "outputs": [],
   "source": [
    "OLD(\"train.py 1\")"
   ]
  },
  {
   "cell_type": "code",
   "execution_count": 70,
   "metadata": {},
   "outputs": [
    {
     "name": "stdout",
     "output_type": "stream",
     "text": [
      "OLD F OK 1\n",
      "tf-idf OK! 1\n",
      "features OK! 1\n",
      "train OK! 1\n",
      "OLD TRAIN 1\n",
      "OLD F OK 2\n",
      "tf-idf OK! 2\n",
      "features OK! 2\n",
      "train OK! 2\n",
      "OLD TRAIN 2\n",
      "OLD F OK 3\n",
      "tf-idf OK! 3\n",
      "features OK! 3\n",
      "train OK! 3\n",
      "OLD TRAIN 3\n",
      "OLD F OK 4\n",
      "tf-idf OK! 4\n",
      "features OK! 4\n",
      "train OK! 4\n",
      "OLD TRAIN 4\n",
      "OLD F OK 5\n",
      "tf-idf OK! 5\n",
      "features OK! 5\n",
      "train OK! 5\n",
      "OLD TRAIN 5\n",
      "OLD F OK 6\n",
      "tf-idf OK! 6\n",
      "features OK! 6\n",
      "train OK! 6\n",
      "OLD TRAIN 6\n",
      "OLD F OK 7\n",
      "tf-idf OK! 7\n",
      "features OK! 7\n",
      "train OK! 7\n",
      "OLD TRAIN 7\n",
      "OLD F OK 8\n",
      "tf-idf OK! 8\n",
      "features OK! 8\n",
      "train OK! 8\n",
      "OLD TRAIN 8\n",
      "OLD F OK 9\n",
      "tf-idf OK! 9\n",
      "features OK! 9\n",
      "train OK! 9\n",
      "OLD TRAIN 9\n",
      "OLD F OK 10\n",
      "tf-idf OK! 10\n",
      "features OK! 10\n",
      "train OK! 10\n",
      "OLD TRAIN 10\n"
     ]
    }
   ],
   "source": [
    "# DO CAREFULLY\n",
    "i = 10\n",
    "for i in range(1,i+1):\n",
    "    OLD(\"clean.py\")\n",
    "    OLD(\"data/split_train_and_test.py\")\n",
    "    OLD(\"data/create_empty_db.py\")\n",
    "    OLD(\"data/insert_values_to_db.py\")\n",
    "    OLD(\"word2vec/transform_split.py\")\n",
    "    OLD(\"data/insert_standard_to_db.py\")\n",
    "    OLD(\"data/data_to_npz.py\")\n",
    "    print(\"OLD F OK\",i)\n",
    "    !python get_tf-idf.py\n",
    "    print(\"tf-idf OK!\",i)\n",
    "    gf.main(model)\n",
    "    print(\"features OK!\",i)\n",
    "    NLP(\"train.py \" + str(i))\n",
    "    print(\"train OK!\",i)\n",
    "    OLD(\"train.py \" + str(i))\n",
    "    print(\"OLD TRAIN\",i)"
   ]
  },
  {
   "cell_type": "code",
   "execution_count": 37,
   "metadata": {},
   "outputs": [
    {
     "name": "stdout",
     "output_type": "stream",
     "text": [
      "OLD TRAIN\n"
     ]
    }
   ],
   "source": [
    "\n",
    "OLD(\"train.py \" + str(1))\n",
    "print(\"OLD TRAIN\")"
   ]
  },
  {
   "cell_type": "code",
   "execution_count": 6,
   "metadata": {},
   "outputs": [],
   "source": [
    "!python get_tf-idf.py"
   ]
  },
  {
   "cell_type": "markdown",
   "metadata": {},
   "source": [
    "### Analyze Results (Average Comfusion Matrix)\n",
    "DO THIS CELL ON NLP ENV!"
   ]
  },
  {
   "cell_type": "code",
   "execution_count": 9,
   "metadata": {},
   "outputs": [
    {
     "name": "stdout",
     "output_type": "stream",
     "text": [
      "Average Accuracy: 0.6284590929345036\n"
     ]
    },
    {
     "data": {
      "image/png": "[encoded data removed]",
      "text/plain": [
       "<Figure size 432x288 with 2 Axes>"
      ]
     },
     "metadata": {
      "needs_background": "light"
     },
     "output_type": "display_data"
    }
   ],
   "source": [
    "import csv\n",
    "\n",
    "import numpy as np\n",
    "import matplotlib.pyplot as plt\n",
    "\n",
    "import train\n",
    "t = train.Train()\n",
    "politicians = t.get_politicians()\n",
    "\n",
    "i = 10\n",
    "\n",
    "accuracies = []\n",
    "with open(\"data/accuracy.txt\",\"r\") as f:\n",
    "    for l in f.readlines():\n",
    "        accuracies.append(float(l))\n",
    "print(\"Average Accuracy:\",np.mean(accuracies))\n",
    "        \n",
    "\n",
    "cm = []\n",
    "for i in range(1, i+1):\n",
    "    cm.append(np.load(\"data/cm{0}.npy\".format(i)))\n",
    "cm = np.asarray(cm)\n",
    "cm_a = np.mean(cm,axis=0)\n",
    "\n",
    "fig = plt.figure()\n",
    "ax = plt.subplot()\n",
    "cax = ax.matshow(cm_a, interpolation=\"nearest\", cmap=\"autumn_r\")\n",
    "fig.colorbar(cax)\n",
    "ax.set_xticklabels([\"\"]+politicians,fontsize=6)\n",
    "ax.set_yticklabels([\"\"]+politicians,fontsize=6)\n",
    "plt.title(\"Normalized Confusion Matrix\")\n",
    "plt.xlabel(\"Predicted class\")\n",
    "plt.ylabel(\"True class\")\n",
    "plt.show()\n",
    "\n",
    "with open(\"data/cm.csv\",\"w\") as f:\n",
    "    writer = csv.writer(f,delimiter=\",\")\n",
    "    writer.writerows(cm_a)"
   ]
  },
  {
   "cell_type": "code",
   "execution_count": null,
   "metadata": {},
   "outputs": [],
   "source": []
  }
 ],
 "metadata": {
  "kernelspec": {
   "display_name": "Python 3",
   "language": "python",
   "name": "python3"
  },
  "language_info": {
   "codemirror_mode": {
    "name": "ipython",
    "version": 3
   },
   "file_extension": ".py",
   "mimetype": "text/x-python",
   "name": "python",
   "nbconvert_exporter": "python",
   "pygments_lexer": "ipython3",
   "version": "3.7.2"
  }
 },
 "nbformat": 4,
 "nbformat_minor": 2
}
