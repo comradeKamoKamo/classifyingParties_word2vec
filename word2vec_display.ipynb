{
 "cells": [
  {
   "cell_type": "code",
   "execution_count": 1,
   "metadata": {},
   "outputs": [],
   "source": [
    "from gensim.models import word2vec\n",
    "model = word2vec.Word2Vec.load(\"make_corpus/jawiki.model\")"
   ]
  },
  {
   "cell_type": "code",
   "execution_count": 39,
   "metadata": {},
   "outputs": [
    {
     "name": "stdout",
     "output_type": "stream",
     "text": [
      "焼き芋 \t 0.5766842365264893\n",
      "赤飯 \t 0.5603721141815186\n",
      "トマト \t 0.5598807334899902\n",
      "好物 \t 0.5577690601348877\n",
      "鰻 \t 0.5530487895011902\n",
      "膾 \t 0.5529608726501465\n",
      "おにぎり \t 0.5494703650474548\n",
      "ご飯 \t 0.5482556819915771\n",
      "ごちそう \t 0.547333836555481\n",
      "飯 \t 0.5471814274787903\n"
     ]
    }
   ],
   "source": [
    "# ここに足す言葉と引く言葉を指定します。\n",
    "# e.g.) 食べ物＋赤ー色\n",
    "# p = [\"食べ物\",\"赤\"]\n",
    "# n = [\"色\"]\n",
    "\n",
    "\n",
    "p = [\"食べ物\",\"赤\"]\n",
    "n = [\"色\"]\n",
    "\n",
    "\n",
    "# コサイン近似法で類似ベクトルを見つける。\n",
    "try:\n",
    "    results = model.wv.most_similar(p,n, topn=10)\n",
    "    for result in results:\n",
    "        print(result[0], '\\t', result[1])\n",
    "except KeyError as e:\n",
    "    print(e)\n",
    "    "
   ]
  },
  {
   "cell_type": "code",
   "execution_count": 40,
   "metadata": {},
   "outputs": [
    {
     "name": "stdout",
     "output_type": "stream",
     "text": [
      "焼き芋 \t 0.5766842365264893\n",
      "赤飯 \t 0.5603721141815186\n",
      "トマト \t 0.5598807334899902\n",
      "好物 \t 0.5577690601348877\n",
      "鰻 \t 0.5530487895011902\n",
      "膾 \t 0.5529608726501465\n",
      "おにぎり \t 0.5494703650474548\n",
      "ご飯 \t 0.5482556819915771\n",
      "ごちそう \t 0.547333836555481\n",
      "飯 \t 0.5471814274787903\n"
     ]
    }
   ],
   "source": [
    "# 高度な演算\n",
    "try:\n",
    "    vector = model.wv[\"食べ物\"] + model.wv[\"赤\"] / 0.5\n",
    "    average_vector = vector / 2\n",
    "\n",
    "    retults = model.wv.similar_by_vector(average_vector)\n",
    "    for result in results:\n",
    "        print(result[0], '\\t', result[1])\n",
    "        \n",
    "except KeyError as e:\n",
    "    print(e)\n",
    "\n"
   ]
  }
 ],
 "metadata": {
  "kernelspec": {
   "display_name": "Python 3",
   "language": "python",
   "name": "python3"
  },
  "language_info": {
   "codemirror_mode": {
    "name": "ipython",
    "version": 3
   },
   "file_extension": ".py",
   "mimetype": "text/x-python",
   "name": "python",
   "nbconvert_exporter": "python",
   "pygments_lexer": "ipython3",
   "version": "3.7.2"
  }
 },
 "nbformat": 4,
 "nbformat_minor": 2
}
