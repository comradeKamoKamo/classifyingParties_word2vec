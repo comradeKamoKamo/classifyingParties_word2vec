{
 "cells": [
  {
   "cell_type": "code",
   "execution_count": 7,
   "metadata": {},
   "outputs": [],
   "source": [
    "from gensim.models import word2vec\n",
    "model = word2vec.Word2Vec.load(\"make_corpus/jawiki.model\")"
   ]
  },
  {
   "cell_type": "code",
   "execution_count": 35,
   "metadata": {},
   "outputs": [
    {
     "name": "stdout",
     "output_type": "stream",
     "text": [
      "姫君 \t 0.6757448315620422\n",
      "男 \t 0.6743749380111694\n",
      "寵姫 \t 0.6644174456596375\n",
      "侍女 \t 0.6563159823417664\n",
      "王女 \t 0.6550811529159546\n",
      "王妃 \t 0.6519767045974731\n",
      "帝 \t 0.6469862461090088\n",
      "王子 \t 0.6462088823318481\n",
      "女帝 \t 0.6449722051620483\n",
      "妾 \t 0.6449054479598999\n"
     ]
    }
   ],
   "source": [
    "import numpy as np\n",
    "p = [\"皇帝\",\"女\"]\n",
    "n = []\n",
    "\n",
    "results = model.wv.most_similar(p,n, topn=10)\n",
    "\n",
    "for result in results:\n",
    "    print(result[0], '\\t', result[1])"
   ]
  },
  {
   "cell_type": "code",
   "execution_count": 36,
   "metadata": {},
   "outputs": [
    {
     "name": "stdout",
     "output_type": "stream",
     "text": [
      "姫君 \t 0.6731151342391968\n",
      "男 \t 0.6662282943725586\n",
      "寵姫 \t 0.6661146879196167\n",
      "侍女 \t 0.654399037361145\n",
      "王女 \t 0.6543127298355103\n",
      "王妃 \t 0.6535855531692505\n",
      "帝 \t 0.6524242162704468\n",
      "女帝 \t 0.6497179865837097\n",
      "君主 \t 0.6494975090026855\n",
      "王子 \t 0.6455827355384827\n"
     ]
    }
   ],
   "source": [
    "sp, sn = np.zeros((200,),dtype=float), np.zeros((200,),dtype=float)\n",
    "for w in p:\n",
    "    sp += model.wv[w]\n",
    "for w in n:\n",
    "    sn += model.wv[w]\n",
    "\n",
    "cw = len(p)+len(n)\n",
    "    \n",
    "results = model.wv.similar_by_vector((sp-sn)/cw, topn=10+cw)\n",
    "\n",
    "for result in results:\n",
    "    if not result[0] in p and not result[0] in n:\n",
    "        print(result[0], '\\t', result[1])"
   ]
  },
  {
   "cell_type": "code",
   "execution_count": 35,
   "metadata": {
    "scrolled": true
   },
   "outputs": [
    {
     "data": {
      "image/png": "[encoded data removed]",
      "text/plain": [
       "<Figure size 432x288 with 1 Axes>"
      ]
     },
     "metadata": {
      "needs_background": "light"
     },
     "output_type": "display_data"
    }
   ],
   "source": [
    "%matplotlib inline\n",
    "import matplotlib.pyplot as plt\n",
    "import numpy as np\n",
    "from sklearn.decomposition import PCA\n",
    "\n",
    "words1 = [\"皇帝\",\"女\"]\n",
    "words2 = [\"姫君\",\"寵姫\",\"侍女\",\"王女\",\"王妃\",\"女帝\"]\n",
    "words3 = [\"大宮\",\"浦和\",\"熊谷\",\"行田\"]\n",
    "\n",
    "vectors1 = [model.wv[v] for v in words1]\n",
    "vectors2 = [model.wv[v] for v in words2]\n",
    "vectors3 = [model.wv[v] for v in words3]\n",
    "\n",
    "pca = PCA(n_components=2)\n",
    "pca.fit(vectors1)\n",
    "pca_1 = pca.transform(vectors1)\n",
    "pca.fit(vectors2)\n",
    "pca_2 = pca.transform(vectors2)\n",
    "pca.fit(vectors3)\n",
    "pca_3 = pca.transform(vectors3)\n",
    "\n",
    "for d, w in zip(pca_1,words1):\n",
    "    plt.plot(d[0],d[1],'o',c=\"red\")\n",
    "    plt.annotate(w, xy=d)\n",
    "    \n",
    "for d, w in zip(pca_2,words2):\n",
    "    plt.plot(d[0],d[1],'o',c=\"blue\")\n",
    "    plt.annotate(w, xy=d)\n",
    "    \n",
    "for d, w in zip(pca_3,words3):\n",
    "    plt.plot(d[0],d[1],'o',c=\"green\")\n",
    "    plt.annotate(w, xy=d)\n",
    "    \n",
    "plt.show()"
   ]
  },
  {
   "cell_type": "code",
   "execution_count": 19,
   "metadata": {},
   "outputs": [
    {
     "ename": "AttributeError",
     "evalue": "'Word2VecKeyedVectors' object has no attribute 'Vocab'",
     "output_type": "error",
     "traceback": [
      "\u001b[1;31m---------------------------------------------------------------------------\u001b[0m",
      "\u001b[1;31mAttributeError\u001b[0m                            Traceback (most recent call last)",
      "\u001b[1;32m<ipython-input-19-31da1218e10c>\u001b[0m in \u001b[0;36m<module>\u001b[1;34m\u001b[0m\n\u001b[0;32m      6\u001b[0m \u001b[0mvectors\u001b[0m \u001b[1;33m=\u001b[0m \u001b[1;33m[\u001b[0m\u001b[1;33m]\u001b[0m\u001b[1;33m\u001b[0m\u001b[1;33m\u001b[0m\u001b[0m\n\u001b[0;32m      7\u001b[0m \u001b[0mwords\u001b[0m \u001b[1;33m=\u001b[0m \u001b[1;33m[\u001b[0m\u001b[1;33m]\u001b[0m\u001b[1;33m\u001b[0m\u001b[1;33m\u001b[0m\u001b[0m\n\u001b[1;32m----> 8\u001b[1;33m \u001b[0mc\u001b[0m \u001b[1;33m=\u001b[0m \u001b[0mlen\u001b[0m\u001b[1;33m(\u001b[0m\u001b[0mmodel\u001b[0m\u001b[1;33m.\u001b[0m\u001b[0mwv\u001b[0m\u001b[1;33m.\u001b[0m\u001b[0mVocab\u001b[0m\u001b[1;33m(\u001b[0m\u001b[1;33m)\u001b[0m\u001b[1;33m)\u001b[0m\u001b[1;33m\u001b[0m\u001b[1;33m\u001b[0m\u001b[0m\n\u001b[0m\u001b[0;32m      9\u001b[0m \u001b[1;33m\u001b[0m\u001b[0m\n\u001b[0;32m     10\u001b[0m \u001b[1;32mfor\u001b[0m \u001b[0mv\u001b[0m \u001b[1;32min\u001b[0m \u001b[0mmodel\u001b[0m\u001b[1;33m.\u001b[0m\u001b[0mwv\u001b[0m\u001b[1;33m[\u001b[0m\u001b[0mmodel\u001b[0m\u001b[1;33m.\u001b[0m\u001b[0mwv\u001b[0m\u001b[1;33m.\u001b[0m\u001b[0mkeys\u001b[0m\u001b[1;33m(\u001b[0m\u001b[1;33m)\u001b[0m\u001b[1;33m[\u001b[0m\u001b[0mnp\u001b[0m\u001b[1;33m.\u001b[0m\u001b[0mrandam\u001b[0m\u001b[1;33m.\u001b[0m\u001b[0mrand\u001b[0m\u001b[1;33m(\u001b[0m\u001b[1;33m)\u001b[0m\u001b[1;33m*\u001b[0m\u001b[0mc\u001b[0m\u001b[1;33m]\u001b[0m\u001b[1;33m]\u001b[0m\u001b[1;33m:\u001b[0m\u001b[1;33m\u001b[0m\u001b[1;33m\u001b[0m\u001b[0m\n",
      "\u001b[1;31mAttributeError\u001b[0m: 'Word2VecKeyedVectors' object has no attribute 'Vocab'"
     ]
    }
   ],
   "source": [
    "%matplotlib inline\n",
    "import matplotlib.pyplot as plt\n",
    "import numpy as np\n",
    "from sklearn.decomposition import PCA\n",
    "\n",
    "vectors = []\n",
    "words = []\n",
    "c = len(model.wv.Vocab())\n",
    "\n",
    "for v in model.wv[model.wv.keys()[np.randam.rand()*c]]:\n",
    "    vectors.append(v)\n",
    "    words.append(model.wv.keys()[np.randam.rand()*c])\n",
    "vectors = np.asarray(vectors)\n",
    "\n",
    "pca = PCA(n_components=2)\n",
    "pca.fit(vectors)\n",
    "pca_1 = pca.transform(vectors)\n",
    "\n",
    "\n",
    "for d, w in zip(pca_1,words):\n",
    "    plt.plot(d[0],d[1],'o',c=\"red\")\n",
    "    plt.annotate(w, xy=d)\n",
    "    \n",
    "plt.show()"
   ]
  }
 ],
 "metadata": {
  "kernelspec": {
   "display_name": "Python 3",
   "language": "python",
   "name": "python3"
  },
  "language_info": {
   "codemirror_mode": {
    "name": "ipython",
    "version": 3
   },
   "file_extension": ".py",
   "mimetype": "text/x-python",
   "name": "python",
   "nbconvert_exporter": "python",
   "pygments_lexer": "ipython3",
   "version": "3.7.2"
  }
 },
 "nbformat": 4,
 "nbformat_minor": 2
}
